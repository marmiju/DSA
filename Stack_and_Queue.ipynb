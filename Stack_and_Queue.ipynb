{
  "nbformat": 4,
  "nbformat_minor": 0,
  "metadata": {
    "colab": {
      "provenance": [],
      "authorship_tag": "ABX9TyPjhmiOX5sxGxvL9GWGIv6Q",
      "include_colab_link": true
    },
    "kernelspec": {
      "name": "python3",
      "display_name": "Python 3"
    },
    "language_info": {
      "name": "python"
    }
  },
  "cells": [
    {
      "cell_type": "markdown",
      "metadata": {
        "id": "view-in-github",
        "colab_type": "text"
      },
      "source": [
        "<a href=\"https://colab.research.google.com/github/marmiju/DSA/blob/main/Stack_and_Queue.ipynb\" target=\"_parent\"><img src=\"https://colab.research.google.com/assets/colab-badge.svg\" alt=\"Open In Colab\"/></a>"
      ]
    },
    {
      "cell_type": "markdown",
      "source": [
        "# **Stack**"
      ],
      "metadata": {
        "id": "brmunUXMVPtH"
      }
    },
    {
      "cell_type": "markdown",
      "source": [
        "###### Create or defiend Stack"
      ],
      "metadata": {
        "id": "klHaZgfyVeH-"
      }
    },
    {
      "cell_type": "code",
      "execution_count": null,
      "metadata": {
        "id": "BpUl1R61VMHo"
      },
      "outputs": [],
      "source": [
        "# Stack Implementetion In Array\n",
        "class Stack:\n",
        "  def __init__(self):\n",
        "    self.st = []\n",
        "\n",
        "  def push(self,val):\n",
        "    self.st.append(val)\n",
        "\n",
        "  def pop(self):\n",
        "    # base case\n",
        "    if len(self.st) == 0:\n",
        "      print(\"Stack is empty\")\n",
        "    else:\n",
        "      val = self.st[-1]\n",
        "      self.st.pop()\n",
        "      return val\n",
        "\n",
        "  def show(self):\n",
        "    # base case\n",
        "    if len(self.st) == 0:\n",
        "      print(\"Stack is empty\")\n",
        "\n",
        "    for i in self.st:\n",
        "      print(i, end= \" \")\n",
        "\n",
        "  def top(self):\n",
        "    # base case\n",
        "    if len(self.st) == 0:\n",
        "      print(\"Stack is empty\")\n",
        "    else:\n",
        "      return self.st[-1]\n",
        "\n",
        "  def size(self):\n",
        "    return len(self.st)\n",
        "\n",
        "  def isEmpty(self):\n",
        "    return len(self.st) == 0\n",
        "\n",
        "  def clear(self):\n",
        "    self.st.clear()\n",
        "\n",
        "  def __str__(self):\n",
        "    return str(self.st)\n",
        "\n",
        "  def isful(self):\n",
        "    return len(self.st) == 100\n",
        "\n",
        "  def bottom(self):\n",
        "    return  self.st[0] if len(self.st) > 0 else None\n",
        "\n"
      ]
    },
    {
      "cell_type": "markdown",
      "source": [
        "### implementation of stack"
      ],
      "metadata": {
        "id": "AbPUGdK1Wezu"
      }
    },
    {
      "cell_type": "markdown",
      "source": [
        "#### at first check stack"
      ],
      "metadata": {
        "id": "FmmMa-64XVmQ"
      }
    },
    {
      "cell_type": "code",
      "source": [
        "# check stack\n",
        "stack = Stack()\n",
        "stack.show() # at the begining stack show result empty"
      ],
      "metadata": {
        "colab": {
          "base_uri": "https://localhost:8080/"
        },
        "id": "EJnr-3l-XUKP",
        "outputId": "d9ece619-479f-4c2b-fc5e-327582dc7070"
      },
      "execution_count": null,
      "outputs": [
        {
          "output_type": "stream",
          "name": "stdout",
          "text": [
            "Stack is empty\n"
          ]
        }
      ]
    },
    {
      "cell_type": "markdown",
      "source": [
        "#### push element"
      ],
      "metadata": {
        "id": "0IzczQWkXL3n"
      }
    },
    {
      "cell_type": "code",
      "source": [
        "\n",
        "#push elements\n",
        "stack.push(1)\n",
        "stack.push(2)\n",
        "stack.push(3)\n",
        "stack.push(4)\n",
        "stack.push(5)\n",
        "stack.push(6)\n"
      ],
      "metadata": {
        "id": "Xkx_jUnGWkmH"
      },
      "execution_count": null,
      "outputs": []
    },
    {
      "cell_type": "markdown",
      "source": [
        "### show element"
      ],
      "metadata": {
        "id": "xiTDZ1MPXjhP"
      }
    },
    {
      "cell_type": "code",
      "source": [
        "stack.show()"
      ],
      "metadata": {
        "colab": {
          "base_uri": "https://localhost:8080/"
        },
        "id": "Oskr5HatXi_X",
        "outputId": "ce4cce85-e93a-4b64-ff02-6d8a8bc4061f"
      },
      "execution_count": null,
      "outputs": [
        {
          "output_type": "stream",
          "name": "stdout",
          "text": [
            "1 2 3 4 5 6 "
          ]
        }
      ]
    },
    {
      "cell_type": "markdown",
      "source": [
        "### pop element"
      ],
      "metadata": {
        "id": "PKJFF5bbYFUH"
      }
    },
    {
      "cell_type": "code",
      "source": [
        "stack.pop()"
      ],
      "metadata": {
        "colab": {
          "base_uri": "https://localhost:8080/"
        },
        "id": "l4MM49_7YHHH",
        "outputId": "bfd513aa-04bf-4b05-b80f-fbe340427bc1"
      },
      "execution_count": null,
      "outputs": [
        {
          "output_type": "execute_result",
          "data": {
            "text/plain": [
              "6"
            ]
          },
          "metadata": {},
          "execution_count": 51
        }
      ]
    },
    {
      "cell_type": "markdown",
      "source": [
        "### check top value"
      ],
      "metadata": {
        "id": "GkmK5uUHYKPf"
      }
    },
    {
      "cell_type": "code",
      "source": [
        "stack.show()\n",
        "# check top element\n",
        "stack.top()"
      ],
      "metadata": {
        "colab": {
          "base_uri": "https://localhost:8080/"
        },
        "id": "-2yY2I5rYN5H",
        "outputId": "cb1bf3cf-9295-4a6e-a9f9-56d5b8373f27"
      },
      "execution_count": null,
      "outputs": [
        {
          "output_type": "stream",
          "name": "stdout",
          "text": [
            "1 2 3 4 5 "
          ]
        },
        {
          "output_type": "execute_result",
          "data": {
            "text/plain": [
              "5"
            ]
          },
          "metadata": {},
          "execution_count": 52
        }
      ]
    },
    {
      "cell_type": "markdown",
      "source": [
        "### additional"
      ],
      "metadata": {
        "id": "rTMh18UQYusH"
      }
    },
    {
      "cell_type": "code",
      "source": [
        "print(stack.isEmpty()) # check empty or not\n",
        "print(stack.isful())   # check size full or not\n",
        "stack.show()           # display All element\n",
        "print(stack.size())    # len of stack\n",
        "print(stack.top())     # show last element\n",
        "print(stack.bottom())  # show first element\n",
        "stack.clear()          # clear stack"
      ],
      "metadata": {
        "colab": {
          "base_uri": "https://localhost:8080/"
        },
        "id": "7_U5T5UyYxBn",
        "outputId": "b656ded0-0992-4aec-fe10-6a613e960b48"
      },
      "execution_count": null,
      "outputs": [
        {
          "output_type": "stream",
          "name": "stdout",
          "text": [
            "True\n",
            "False\n",
            "Stack is empty\n",
            "0\n",
            "Stack is empty\n",
            "None\n",
            "None\n"
          ]
        }
      ]
    },
    {
      "cell_type": "markdown",
      "source": [
        "### Implement In LinkedList"
      ],
      "metadata": {
        "id": "6zbDXMlErfiZ"
      }
    },
    {
      "cell_type": "code",
      "source": [
        "# Implementation Stack In Linked List\n",
        "class Node:\n",
        "  def __init__(self,data):\n",
        "    self.data = data\n",
        "    self.next = None\n",
        "\n",
        "class Stack:\n",
        "  def __init__(self):\n",
        "    self.head = None\n",
        "    self.len = 0\n",
        "\n",
        "  def push(self,x):\n",
        "    if self.head is None:\n",
        "      self.head = Node(x)\n",
        "      self.len += 1\n",
        "    else:\n",
        "      new_node = Node(x)\n",
        "      new_node.next = self.head\n",
        "      self.head = new_node\n",
        "      self.len += 1\n",
        "\n",
        "\n",
        "  def pop(self):\n",
        "    if self.head is None:\n",
        "      print(\"Stack is empty\")\n",
        "    else:\n",
        "      val = self.head.data\n",
        "      self.head = self.head.next\n",
        "      self.len -= 1\n",
        "      return val\n",
        "\n",
        "  def top(self):\n",
        "    if self.head is None:\n",
        "      print(\"Stack is empty\")\n",
        "    else:\n",
        "      return self.head.data\n",
        "\n",
        "  def size(self):\n",
        "    return self.len\n",
        "\n",
        "  def isEmpty(self):\n",
        "    return self.len == 0\n",
        "\n",
        "  def clear(self):\n",
        "    self.head = None\n",
        "    self.len = 0\n",
        "\n",
        "  def show(self):\n",
        "    if self.head is None:\n",
        "      print(\"Stack is empty\")\n",
        "    else:\n",
        "      current = self.head\n",
        "      while current is not None:\n",
        "        print(current.data, end=\" \")\n",
        "        current = current.next"
      ],
      "metadata": {
        "id": "ZxNpooQirkz4"
      },
      "execution_count": 24,
      "outputs": []
    },
    {
      "cell_type": "code",
      "source": [
        "stack = Stack()\n",
        "\n",
        "stack.push(1)\n",
        "stack.push(2)\n",
        "stack.push(3)\n",
        "stack.push(4)\n",
        "stack.push(5)\n",
        "stack.push(6)\n",
        "\n",
        "stack.show()\n",
        "print(stack.pop())\n",
        "print(stack.top())\n",
        "stack.size()\n",
        "\n",
        "\n",
        "\n"
      ],
      "metadata": {
        "colab": {
          "base_uri": "https://localhost:8080/",
          "height": 211
        },
        "id": "GX0k6LrLtP7o",
        "outputId": "1e25ec9b-1cb6-4c36-e9b2-8608649585c1"
      },
      "execution_count": 24,
      "outputs": [
        {
          "output_type": "error",
          "ename": "NameError",
          "evalue": "name 'Stack' is not defined",
          "traceback": [
            "\u001b[0;31m---------------------------------------------------------------------------\u001b[0m",
            "\u001b[0;31mNameError\u001b[0m                                 Traceback (most recent call last)",
            "\u001b[0;32m/tmp/ipython-input-3383811832.py\u001b[0m in \u001b[0;36m<cell line: 0>\u001b[0;34m()\u001b[0m\n\u001b[0;32m----> 1\u001b[0;31m \u001b[0mstack\u001b[0m \u001b[0;34m=\u001b[0m \u001b[0mStack\u001b[0m\u001b[0;34m(\u001b[0m\u001b[0;34m)\u001b[0m\u001b[0;34m\u001b[0m\u001b[0;34m\u001b[0m\u001b[0m\n\u001b[0m\u001b[1;32m      2\u001b[0m \u001b[0;34m\u001b[0m\u001b[0m\n\u001b[1;32m      3\u001b[0m \u001b[0mstack\u001b[0m\u001b[0;34m.\u001b[0m\u001b[0mpush\u001b[0m\u001b[0;34m(\u001b[0m\u001b[0;36m1\u001b[0m\u001b[0;34m)\u001b[0m\u001b[0;34m\u001b[0m\u001b[0;34m\u001b[0m\u001b[0m\n\u001b[1;32m      4\u001b[0m \u001b[0mstack\u001b[0m\u001b[0;34m.\u001b[0m\u001b[0mpush\u001b[0m\u001b[0;34m(\u001b[0m\u001b[0;36m2\u001b[0m\u001b[0;34m)\u001b[0m\u001b[0;34m\u001b[0m\u001b[0;34m\u001b[0m\u001b[0m\n\u001b[1;32m      5\u001b[0m \u001b[0mstack\u001b[0m\u001b[0;34m.\u001b[0m\u001b[0mpush\u001b[0m\u001b[0;34m(\u001b[0m\u001b[0;36m3\u001b[0m\u001b[0;34m)\u001b[0m\u001b[0;34m\u001b[0m\u001b[0;34m\u001b[0m\u001b[0m\n",
            "\u001b[0;31mNameError\u001b[0m: name 'Stack' is not defined"
          ]
        }
      ]
    },
    {
      "cell_type": "markdown",
      "source": [
        "### Queue"
      ],
      "metadata": {
        "id": "72_GRWyE2pCU"
      }
    },
    {
      "cell_type": "code",
      "source": [
        "#Queue Implement In List(array)\n",
        "\n",
        "class Queue:\n",
        "  def __init__(self):\n",
        "    self.q = []\n",
        "    self.front = 0\n",
        "\n",
        "  def push(self,val):\n",
        "    self.q.append(val)\n",
        "\n",
        "  def pop(self):\n",
        "    if len(self.q) == 0:\n",
        "      self.front = 0\n",
        "      print(\"Queue is empty\")\n",
        "    else:\n",
        "      val = self.q[0]\n",
        "      self.front += 1\n",
        "      return val\n",
        "\n",
        "  def show(self):\n",
        "    if len(self.q) == 0:\n",
        "      print(\"Queue is empty\")\n",
        "    else:\n",
        "      for i in range(self.front, len(self.q)):\n",
        "        print(self.q[i], end= \" \")\n",
        "\n",
        "  def top(self):\n",
        "    if len(self.q) == 0:\n",
        "      print(\"Queue is empty\")\n",
        "    else:\n",
        "      return self.q[self.front] # front should always be 0 for list-based queue\n",
        "\n",
        "queue = Queue()\n",
        "queue.push(1)\n",
        "queue.push(2)\n",
        "queue.push(3)\n",
        "queue.push(4)\n",
        "queue.push(5)\n",
        "queue.push(6)\n",
        "queue.show()\n",
        "print(\"\\n\",queue.pop())\n",
        "print(\"\\n\", queue.top())\n",
        "queue.show()\n",
        "print(\"\\n\", queue.top())\n",
        "\n",
        "\n"
      ],
      "metadata": {
        "colab": {
          "base_uri": "https://localhost:8080/"
        },
        "id": "m-MP1Quz2sP8",
        "outputId": "1c7b4367-253f-4bb0-cdb7-631a668d83fe"
      },
      "execution_count": 27,
      "outputs": [
        {
          "output_type": "stream",
          "name": "stdout",
          "text": [
            "1 2 3 4 5 6 \n",
            " 1\n",
            "\n",
            " 2\n",
            "2 3 4 5 6 \n",
            " 2\n"
          ]
        }
      ]
    },
    {
      "cell_type": "code",
      "source": [
        "# Queue Implementation In LinkedList\n",
        "\n",
        "class Node:\n",
        "  def __init__(self,data):\n",
        "    self.data = data\n",
        "    self.next = None\n",
        "\n",
        "class Queue:\n",
        "  def __init__(self):\n",
        "    self.front = None\n",
        "    self.rear = None\n",
        "    self.len = 0\n",
        "\n",
        "  def push(self,x):\n",
        "    new_node = Node(x)\n",
        "    if self.front is None:\n",
        "      self.front = new_node\n",
        "      self.rear = new_node\n",
        "    else:\n",
        "      self.rear.next = new_node\n",
        "      self.rear = new_node\n",
        "    self.len += 1\n",
        "  def pop(self):\n",
        "    if self.front is None:\n",
        "      print(\"Queue is empty\")\n",
        "      self.front = None\n",
        "      self.rear = None\n",
        "    else:\n",
        "      val = self.front.data\n",
        "      self.front = self.front.next\n",
        "      self.len -= 1\n",
        "      return val\n",
        "  def show(self):\n",
        "    if self.front is None:\n",
        "      print(\"Queue is empty\")\n",
        "    else:\n",
        "      current = self.front\n",
        "      while current is not None:\n",
        "        print(current.data, end=\" \")\n",
        "        current = current.next\n",
        "  def top(self):\n",
        "    if self.front is None:\n",
        "      print(\"Queue is empty\")\n",
        "    else:\n",
        "      return self.front.data\n",
        "  def size(self):\n",
        "    return self.len\n",
        "\n",
        "## call\n",
        "queue = Queue()\n",
        "queue.push(1)\n",
        "queue.push(2)\n",
        "queue.push(3)\n",
        "queue.push(4)\n",
        "queue.push(5)\n",
        "queue.push(6)\n",
        "queue.show()\n",
        "print(\"\\n\",queue.pop())\n",
        "print(\"\\n\", queue.top())\n",
        "queue.show()\n",
        "print(\"\\n\", queue.top())\n",
        "print(queue.size())\n",
        "queue.pop()\n",
        "print(queue.size())\n",
        "print(queue.top())\n",
        "queue.show()"
      ],
      "metadata": {
        "colab": {
          "base_uri": "https://localhost:8080/"
        },
        "id": "RTrF-0dU8S9j",
        "outputId": "77d8a842-4c27-4332-80a7-a34e1fc9ebfe"
      },
      "execution_count": 37,
      "outputs": [
        {
          "output_type": "stream",
          "name": "stdout",
          "text": [
            "1 2 3 4 5 6 \n",
            " 1\n",
            "\n",
            " 2\n",
            "2 3 4 5 6 \n",
            " 2\n",
            "5\n",
            "4\n",
            "3\n",
            "3 4 5 6 "
          ]
        }
      ]
    }
  ]
}
{
  "nbformat": 4,
  "nbformat_minor": 0,
  "metadata": {
    "colab": {
      "provenance": [],
      "authorship_tag": "ABX9TyP9sf4cw6QbXf9R44q9nvpi",
      "include_colab_link": true
    },
    "kernelspec": {
      "name": "python3",
      "display_name": "Python 3"
    },
    "language_info": {
      "name": "python"
    }
  },
  "cells": [
    {
      "cell_type": "markdown",
      "metadata": {
        "id": "view-in-github",
        "colab_type": "text"
      },
      "source": [
        "<a href=\"https://colab.research.google.com/github/marmiju/DSA/blob/main/searching_and_sorting.ipynb\" target=\"_parent\"><img src=\"https://colab.research.google.com/assets/colab-badge.svg\" alt=\"Open In Colab\"/></a>"
      ]
    },
    {
      "cell_type": "markdown",
      "source": [
        "### insertion sort"
      ],
      "metadata": {
        "id": "eP28fZN36yLf"
      }
    },
    {
      "cell_type": "code",
      "execution_count": 2,
      "metadata": {
        "colab": {
          "base_uri": "https://localhost:8080/"
        },
        "id": "dbkqpYJU6fFG",
        "outputId": "71fa95e8-2022-4025-fa42-7a1a7a5fb0a3"
      },
      "outputs": [
        {
          "output_type": "stream",
          "name": "stdout",
          "text": [
            "[2, 8, 8, 56, 75, 96]\n"
          ]
        }
      ],
      "source": [
        "def insertionSort(arr):\n",
        "  n = len(arr)\n",
        "  for i in range(1,n):\n",
        "    key = arr[i]\n",
        "    j = i-1\n",
        "    while j>=0 and arr[j] > key:\n",
        "      arr[j+1] = arr[j]\n",
        "      j -= 1\n",
        "    arr[j+1] = key\n",
        "\n",
        "  return arr\n",
        "\n",
        "print(insertionSort([56,75,8,96,2,8]))"
      ]
    },
    {
      "cell_type": "markdown",
      "source": [
        "### Buble Sort"
      ],
      "metadata": {
        "id": "vjZeryoOJ7rJ"
      }
    },
    {
      "cell_type": "code",
      "source": [
        "def bubleSort(arr):\n",
        "  for i in range(len(arr)):\n",
        "    isSwap = False\n",
        "    for j in range(len(arr)-i-1):\n",
        "      if arr[j] > arr[j+1]:\n",
        "        arr[j], arr[j+1] = arr[j+1], arr[j]\n",
        "        isSwap = True\n",
        "    if not isSwap:\n",
        "      break\n",
        "  return arr\n",
        "\n",
        "print(bubleSort([56,75,8,96,2,8]))"
      ],
      "metadata": {
        "colab": {
          "base_uri": "https://localhost:8080/"
        },
        "id": "nQxH8yzVJ94p",
        "outputId": "111734ae-2111-45ff-a578-1035d8a18316"
      },
      "execution_count": 3,
      "outputs": [
        {
          "output_type": "stream",
          "name": "stdout",
          "text": [
            "[2, 8, 8, 56, 75, 96]\n"
          ]
        }
      ]
    },
    {
      "cell_type": "markdown",
      "source": [
        "### Quick Sort\n"
      ],
      "metadata": {
        "id": "CoVPZtEg7StK"
      }
    },
    {
      "cell_type": "code",
      "source": [
        "def pertition(arr,st,end):\n",
        "  pivot = arr[end]\n",
        "  i = st-1\n",
        "  for j in range(st,end):\n",
        "    if arr[j] <= pivot:\n",
        "      i += 1\n",
        "      arr[i], arr[j] = arr[j], arr[i]\n",
        "  i+=1\n",
        "  arr[i], arr[end] = arr[end], arr[i]\n",
        "  return i\n",
        "\n",
        "def quickSort(arr, st,end):\n",
        "  if st<end:\n",
        "    pivot = pertition(arr,st,end)\n",
        "    quickSort(arr,st,pivot-1)\n",
        "    quickSort(arr,pivot+1,end)\n",
        "  return arr\n",
        "\n",
        "print(quickSort([56,75,8,96,2,8],0,5))\n"
      ],
      "metadata": {
        "colab": {
          "base_uri": "https://localhost:8080/"
        },
        "id": "OQxRp8BI7Yet",
        "outputId": "16ec01ca-c920-4ea6-847f-bf1fe3f0c95c"
      },
      "execution_count": 4,
      "outputs": [
        {
          "output_type": "stream",
          "name": "stdout",
          "text": [
            "[2, 8, 8, 56, 75, 96]\n"
          ]
        }
      ]
    },
    {
      "cell_type": "markdown",
      "source": [
        "### Marge Sort"
      ],
      "metadata": {
        "id": "F5lfjkFutpiu"
      }
    },
    {
      "cell_type": "code",
      "source": [
        "def merge(arr, st, mid, end):\n",
        "    i, j = st, mid + 1\n",
        "    temp = []\n",
        "    while i <= mid and j <= end:\n",
        "        if arr[i] <= arr[j]:\n",
        "            temp.append(arr[i])\n",
        "            i += 1\n",
        "        else:\n",
        "            temp.append(arr[j])\n",
        "            j += 1\n",
        "\n",
        "    while i <= mid:\n",
        "        temp.append(arr[i])\n",
        "        i += 1\n",
        "    while j <= end:\n",
        "        temp.append(arr[j])\n",
        "        j += 1\n",
        "\n",
        "    # copy back into original array\n",
        "    arr[st:end+1] = temp\n",
        "\n",
        "\n",
        "def MergeSort(arr, st, end):\n",
        "    if st < end:\n",
        "        mid = (st + end) // 2\n",
        "        MergeSort(arr, st, mid)\n",
        "        MergeSort(arr, mid + 1, end)\n",
        "        merge(arr, st, mid, end)\n",
        "    return arr\n",
        "\n",
        "\n",
        "print(MergeSort([56, 75, 8, 96, 2, 8], 0, 5))\n",
        "\n"
      ],
      "metadata": {
        "colab": {
          "base_uri": "https://localhost:8080/"
        },
        "id": "EyzOc-0atsfF",
        "outputId": "71f24160-9fed-4311-c6df-90c11c61221e"
      },
      "execution_count": 25,
      "outputs": [
        {
          "output_type": "stream",
          "name": "stdout",
          "text": [
            "[2, 8, 8, 56, 75, 96]\n"
          ]
        }
      ]
    }
  ]
}
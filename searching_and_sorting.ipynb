{
  "nbformat": 4,
  "nbformat_minor": 0,
  "metadata": {
    "colab": {
      "provenance": [],
      "authorship_tag": "ABX9TyM7OlVO1lRG1C9yQmWJbF3E",
      "include_colab_link": true
    },
    "kernelspec": {
      "name": "python3",
      "display_name": "Python 3"
    },
    "language_info": {
      "name": "python"
    }
  },
  "cells": [
    {
      "cell_type": "markdown",
      "metadata": {
        "id": "view-in-github",
        "colab_type": "text"
      },
      "source": [
        "<a href=\"https://colab.research.google.com/github/marmiju/DSA/blob/main/searching_and_sorting.ipynb\" target=\"_parent\"><img src=\"https://colab.research.google.com/assets/colab-badge.svg\" alt=\"Open In Colab\"/></a>"
      ]
    },
    {
      "cell_type": "markdown",
      "source": [
        "### insertion sort"
      ],
      "metadata": {
        "id": "eP28fZN36yLf"
      }
    },
    {
      "cell_type": "code",
      "execution_count": 16,
      "metadata": {
        "colab": {
          "base_uri": "https://localhost:8080/"
        },
        "id": "dbkqpYJU6fFG",
        "outputId": "ce88871d-7aa2-4437-c1bf-adf3831b1e49"
      },
      "outputs": [
        {
          "output_type": "stream",
          "name": "stdout",
          "text": [
            "[2, 8, 8, 56, 75, 96]\n"
          ]
        }
      ],
      "source": [
        "def insertionSort(arr):\n",
        "  n = len(arr)\n",
        "  for i in range(1,n):\n",
        "    key = arr[i]\n",
        "    j = i-1\n",
        "    while j>=0 and arr[j] > key:\n",
        "      arr[j+1] = arr[j]\n",
        "      j -= 1\n",
        "    arr[j+1] = key\n",
        "\n",
        "  return arr\n",
        "\n",
        "print(insertionSort([56,75,8,96,2,8]))"
      ]
    },
    {
      "cell_type": "markdown",
      "source": [
        "### Buble Sort"
      ],
      "metadata": {
        "id": "vjZeryoOJ7rJ"
      }
    },
    {
      "cell_type": "code",
      "source": [
        "def bubleSort(arr):\n",
        "  for i in range(len(arr)):\n",
        "    isSwap = False\n",
        "    for j in range(len(arr)-i-1):\n",
        "      if arr[j] > arr[j+1]:\n",
        "        arr[j], arr[j+1] = arr[j+1], arr[j]\n",
        "        isSwap = True\n",
        "    if not isSwap:\n",
        "      break\n",
        "  return arr\n",
        "\n",
        "print(bubleSort([56,75,8,96,2,8]))"
      ],
      "metadata": {
        "colab": {
          "base_uri": "https://localhost:8080/"
        },
        "id": "nQxH8yzVJ94p",
        "outputId": "6fabcc38-babe-41c4-83cc-9517801919b8"
      },
      "execution_count": 17,
      "outputs": [
        {
          "output_type": "stream",
          "name": "stdout",
          "text": [
            "[2, 8, 8, 56, 75, 96]\n"
          ]
        }
      ]
    }
  ]
}
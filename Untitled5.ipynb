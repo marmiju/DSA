{
  "nbformat": 4,
  "nbformat_minor": 0,
  "metadata": {
    "colab": {
      "provenance": [],
      "authorship_tag": "ABX9TyNM1mwRUXklLfTTYgq1epWL",
      "include_colab_link": true
    },
    "kernelspec": {
      "name": "python3",
      "display_name": "Python 3"
    },
    "language_info": {
      "name": "python"
    }
  },
  "cells": [
    {
      "cell_type": "markdown",
      "metadata": {
        "id": "view-in-github",
        "colab_type": "text"
      },
      "source": [
        "<a href=\"https://colab.research.google.com/github/marmiju/DSA/blob/main/Untitled5.ipynb\" target=\"_parent\"><img src=\"https://colab.research.google.com/assets/colab-badge.svg\" alt=\"Open In Colab\"/></a>"
      ]
    },
    {
      "cell_type": "markdown",
      "source": [
        "# Binary Tree\n",
        "**By MAR miju**\n",
        "\n",
        "[leetcode](leetcode.com/marmiju)"
      ],
      "metadata": {
        "id": "joOfJuc5hM--"
      }
    },
    {
      "cell_type": "code",
      "execution_count": 12,
      "metadata": {
        "id": "YVfwwUt5hL2q"
      },
      "outputs": [],
      "source": [
        "class Node:\n",
        "  def __init__(self,val):\n",
        "    self.val = val\n",
        "    self.left = None\n",
        "    self.right = None\n",
        "\n",
        "root = Node(5)\n",
        "root.left = Node(3)\n",
        "root.right = Node(7)\n",
        "root.left.left = Node(2)\n",
        "root.left.right = Node(4)\n",
        "root.right.left = Node(6)\n",
        "root.right.right = Node(8)\n",
        "\n",
        "\n"
      ]
    },
    {
      "cell_type": "markdown",
      "source": [
        "### traversel Of tree\n",
        "\n",
        "\n"
      ],
      "metadata": {
        "id": "IHzWUu39n0ji"
      }
    },
    {
      "cell_type": "code",
      "source": [
        "def traverselOfTree(root):\n",
        "  if root is None:\n",
        "    return\n",
        "  print(root.val, end = \" \")\n",
        "  traverselOfTree(root.left)\n",
        "  traverselOfTree(root.right)\n",
        "\n",
        "traverselOfTree(root)"
      ],
      "metadata": {
        "colab": {
          "base_uri": "https://localhost:8080/"
        },
        "id": "BmjC74L9n4kS",
        "outputId": "91ccb825-acce-40b4-ec52-73b05e1353ef"
      },
      "execution_count": 14,
      "outputs": [
        {
          "output_type": "stream",
          "name": "stdout",
          "text": [
            "5 3 2 4 7 6 8 "
          ]
        }
      ]
    }
  ]
}